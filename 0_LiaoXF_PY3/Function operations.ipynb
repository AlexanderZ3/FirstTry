{
 "cells": [
  {
   "cell_type": "markdown",
   "metadata": {},
   "source": [
    "#slice"
   ]
  },
  {
   "cell_type": "code",
   "execution_count": 17,
   "metadata": {},
   "outputs": [
    {
     "name": "stdout",
     "output_type": "stream",
     "text": [
      "[3, 4, 5]\n",
      "[1, 2, 3]\n",
      "[2, 3, 4, 5]\n"
     ]
    }
   ],
   "source": [
    "L = [1,2,3,4,5]\n",
    "print(L[-3:])\n",
    "print(L[:3])\n",
    "print(L[1:])"
   ]
  },
  {
   "cell_type": "markdown",
   "metadata": {},
   "source": [
    "实现一个切割函数，去掉头尾的空格"
   ]
  },
  {
   "cell_type": "code",
   "execution_count": 6,
   "metadata": {},
   "outputs": [],
   "source": [
    "def trim(s):\n",
    "    while(s[:1]==' '):\n",
    "        s= s[1:len(s)]\n",
    "    while(s[-1:]==' '):\n",
    "        s= s[:len(s)-1]\n",
    "    \n",
    "    return s"
   ]
  },
  {
   "cell_type": "code",
   "execution_count": 18,
   "metadata": {},
   "outputs": [
    {
     "data": {
      "text/plain": [
       "'adsal'"
      ]
     },
     "execution_count": 18,
     "metadata": {},
     "output_type": "execute_result"
    }
   ],
   "source": [
    "trim('    adsal     ')"
   ]
  },
  {
   "cell_type": "markdown",
   "metadata": {},
   "source": []
  },
  {
   "cell_type": "markdown",
   "metadata": {},
   "source": [
    "#iteration 迭代"
   ]
  },
  {
   "cell_type": "code",
   "execution_count": 10,
   "metadata": {},
   "outputs": [],
   "source": [
    "def findmm(L):\n",
    "    from collections import Iterable\n",
    "    if isinstance(L,Iterable) == 0:\n",
    "        raise TypeError(\"This list is not iterable.\")  # 保证输入的都是可以循环的，但似乎这里并不保证都是数字，即遇到 ['a',2]这样的list\n",
    "        pass                                           # 不会报错，所以这个函数还需要进一步优化\n",
    "    else:\n",
    "        if len(L) == 0:\n",
    "            return None, None\n",
    "        elif len(L) == 1:\n",
    "            return L[0],L[0]\n",
    "        elif len(L) > 1:\n",
    "            min = L[0]\n",
    "            max = L[0]\n",
    "            for n in L[1:]:\n",
    "                if float(n) < min:\n",
    "                    min = float(n)\n",
    "                if float(n) > max:\n",
    "                    max = float(n)\n",
    "            return min,max\n"
   ]
  },
  {
   "cell_type": "code",
   "execution_count": 14,
   "metadata": {},
   "outputs": [
    {
     "data": {
      "text/plain": [
       "(None, None)"
      ]
     },
     "execution_count": 14,
     "metadata": {},
     "output_type": "execute_result"
    }
   ],
   "source": [
    "findmm([])"
   ]
  },
  {
   "cell_type": "markdown",
   "metadata": {},
   "source": [
    "列表生成式"
   ]
  },
  {
   "cell_type": "code",
   "execution_count": 38,
   "metadata": {},
   "outputs": [
    {
     "name": "stdout",
     "output_type": "stream",
     "text": [
      "[0, 1, 4, 9, 16, 25, 36, 49, 64, 81]\n"
     ]
    }
   ],
   "source": [
    "L = [x*x for x in range(10)]\n",
    "print(L)"
   ]
  },
  {
   "cell_type": "code",
   "execution_count": 39,
   "metadata": {},
   "outputs": [
    {
     "name": "stdout",
     "output_type": "stream",
     "text": [
      "['hello', 'world', 'apple']\n"
     ]
    }
   ],
   "source": [
    "#将列表中的每一个元素都换成小写\n",
    "array = ['Hello', 'World', 18, 'Apple', None]\n",
    "L = [s.lower() for s in array if isinstance(s,str) ]\n",
    "print(L)"
   ]
  },
  {
   "cell_type": "code",
   "execution_count": null,
   "metadata": {},
   "outputs": [],
   "source": []
  },
  {
   "cell_type": "code",
   "execution_count": 24,
   "metadata": {},
   "outputs": [
    {
     "name": "stdout",
     "output_type": "stream",
     "text": [
      "3 3\n"
     ]
    }
   ],
   "source": [
    "# 赋值语句技巧 a,b = a+b, a+b\n",
    "a = 1; b = 2 ; c = 3\n",
    "a,b = a+b, a+b         # 此处相当于 t = (a+b,a+b); a = t[0];b = t[1]   t is a tuple\n",
    "print(a,b)"
   ]
  },
  {
   "cell_type": "markdown",
   "metadata": {},
   "source": [
    "生成器 generator"
   ]
  },
  {
   "cell_type": "markdown",
   "metadata": {},
   "source": [
    "参考廖雪峰讲解   https://www.liaoxuefeng.com/wiki/1016959663602400/1017318207388128"
   ]
  },
  {
   "cell_type": "code",
   "execution_count": 46,
   "metadata": {},
   "outputs": [],
   "source": [
    "#写一个函数(generator)，输出杨辉三角的每一列\n",
    "def triangles1():\n",
    "        L = [1]\n",
    "        while(1):\n",
    "            yield L\n",
    "            L.append(0)\n",
    "            L = [L[i]+L[i-1] for i in range(len(L))]"
   ]
  },
  {
   "cell_type": "code",
   "execution_count": 47,
   "metadata": {},
   "outputs": [],
   "source": [
    "def triangles2():\n",
    "    yield [1]\n",
    "    yield [1,1]\n",
    "    res = [[1], [1,1]]\n",
    "    n = 2\n",
    "    while n:\n",
    "        temp = []\n",
    "        temp.insert(0, res[n-1][0])\n",
    "        temp.append(res[n-1][-1])\n",
    "\n",
    "        i = 1\n",
    "        while i < n:\n",
    "            temp.insert(i, res[n-1][i-1] + res[n-1][i])\n",
    "            i += 1\n",
    "\n",
    "        res.append(temp)\n",
    "        n += 1\n",
    "        yield temp"
   ]
  },
  {
   "cell_type": "code",
   "execution_count": 53,
   "metadata": {},
   "outputs": [
    {
     "name": "stdout",
     "output_type": "stream",
     "text": [
      "[1]\n",
      "[1, 1]\n",
      "[1, 2, 1]\n",
      "[1, 3, 3, 1]\n"
     ]
    },
    {
     "data": {
      "text/plain": [
       "[[1], [1, 1], [1, 2, 1], [1, 3, 3, 1]]"
      ]
     },
     "execution_count": 53,
     "metadata": {},
     "output_type": "execute_result"
    }
   ],
   "source": [
    "n=0\n",
    "result = []\n",
    "for t in triangles2():\n",
    "    result.append(t)\n",
    "    n = n+1\n",
    "    if n == 4:\n",
    "        break\n",
    "\n",
    "for i in result:\n",
    "    print(i)\n",
    "result\n"
   ]
  },
  {
   "cell_type": "markdown",
   "metadata": {},
   "source": [
    "generator是非常强大的工具，在Python中，可以简单地把列表生成式改成generator，也可以通过函数实现复杂逻辑的generator。\n",
    "\n",
    "要理解generator的工作原理，它是在for循环的过程中不断计算出下一个元素，并在适当的条件结束for循环。对于函数改成的generator来说，遇到return语句或者执行到函数体最后一行语句，就是结束generator的指令，for循环随之结束。\n",
    "\n",
    "请注意区分普通函数和generator函数，普通函数调用直接返回结果"
   ]
  },
  {
   "cell_type": "code",
   "execution_count": null,
   "metadata": {},
   "outputs": [],
   "source": []
  },
  {
   "cell_type": "markdown",
   "metadata": {},
   "source": [
    "迭代器 Iterator"
   ]
  },
  {
   "cell_type": "markdown",
   "metadata": {},
   "source": [
    "参考廖雪峰教程：  https://www.liaoxuefeng.com/wiki/1016959663602400/1017323698112640"
   ]
  },
  {
   "cell_type": "code",
   "execution_count": null,
   "metadata": {},
   "outputs": [],
   "source": []
  }
 ],
 "metadata": {
  "kernelspec": {
   "display_name": "Python 3",
   "language": "python",
   "name": "python3"
  },
  "language_info": {
   "codemirror_mode": {
    "name": "ipython",
    "version": 3
   },
   "file_extension": ".py",
   "mimetype": "text/x-python",
   "name": "python",
   "nbconvert_exporter": "python",
   "pygments_lexer": "ipython3",
   "version": "3.6.5"
  }
 },
 "nbformat": 4,
 "nbformat_minor": 2
}
