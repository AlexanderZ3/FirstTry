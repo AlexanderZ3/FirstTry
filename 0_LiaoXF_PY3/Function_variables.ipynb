{
 "cells": [
  {
   "cell_type": "markdown",
   "metadata": {},
   "source": [
    " Function 参数： 位置参数，默认参数，可变参数（针对不定长度的list或tuple），关键字参数（针对不定长度dict，键值对），命名关键字参数（限制dict只能是命名的那几个）"
   ]
  },
  {
   "cell_type": "markdown",
   "metadata": {},
   "source": [
    "Summary:\n",
    "    函数的位置参数是最基础的参数；\n",
    "    在参数过多，且有的不用时候，可以考虑默认参数；\n",
    "    在参数是 由多个且不确定时候，组成一个list或tuple时，可以考虑使用可变参数，添加方法：*ElementList；\n",
    "    在参数是 由多个且不确定的键值对组成的dict时，可以考虑关键字参数，添加方法： **kw;\n",
    "    当最后一种情况想要限定键值对数量时，可以考虑命名关键字参数   "
   ]
  },
  {
   "cell_type": "code",
   "execution_count": 25,
   "metadata": {},
   "outputs": [],
   "source": [
    "#写一个 可接收一个或多个数并计算乘积的函数, 用可变参数，注意函数的异常处理\n",
    "def product(*numbers):\n",
    "    if len(numbers)>0:\n",
    "        prod = 1\n",
    "        for n in numbers:\n",
    "            prod *= n\n",
    "        return prod\n",
    "    else:\n",
    "        raise TypeError('At least one variable is needed')\n",
    "        "
   ]
  },
  {
   "cell_type": "code",
   "execution_count": 52,
   "metadata": {},
   "outputs": [
    {
     "name": "stdout",
     "output_type": "stream",
     "text": [
      "product(5) = 5\n",
      "product(5, 6) = 30\n",
      "product(5, 6, 7) = 210\n",
      "product(5, 6, 7, 9) = 1890\n",
      "测试成功!\n"
     ]
    }
   ],
   "source": [
    "# 测试\n",
    "print('product(5) =', product(5))\n",
    "print('product(5, 6) =', product(5, 6))\n",
    "print('product(5, 6, 7) =', product(5, 6, 7))\n",
    "print('product(5, 6, 7, 9) =', product(5, 6, 7, 9))\n",
    "if product(5) != 5:\n",
    "    print('测试失败!')\n",
    "elif product(5, 6) != 30:\n",
    "    print('测试失败!')\n",
    "elif product(5, 6, 7) != 210:\n",
    "    print('测试失败!')\n",
    "elif product(5, 6, 7, 9) != 1890:\n",
    "    print('测试失败!')\n",
    "else:\n",
    "    try:\n",
    "        product()\n",
    "        print('测试失败!')\n",
    "    except TypeError:\n",
    "        print('测试成功!')"
   ]
  },
  {
   "cell_type": "markdown",
   "metadata": {},
   "source": []
  },
  {
   "cell_type": "code",
   "execution_count": 56,
   "metadata": {},
   "outputs": [],
   "source": [
    "# 可变参数和关键词参数混用\n",
    "def person(name,age,*args,**kw):  # *args 是可变参数，kw(keyword)是关键词参数，用**引导\n",
    "    n = 1\n",
    "    for x in args:\n",
    "        n *= x\n",
    "    print('Name:','%s;'%name, 'Age:','%s;'%age, 'other informaiton:',kw)\n",
    "    print('%s\\'s saralry is:'%name, n, 'dollars per year.') # %name 紧跟 %s,它们之间没有逗号，两者必须在同一个逗号区间内"
   ]
  },
  {
   "cell_type": "code",
   "execution_count": 57,
   "metadata": {},
   "outputs": [
    {
     "name": "stdout",
     "output_type": "stream",
     "text": [
      "Name: zz; Age: 23; other informaiton: {'Country': 'China', 'Job': 'Engineer', 'City': 'Singapore'}\n",
      "zz's saralry is: 48960 dollars per year.\n"
     ]
    }
   ],
   "source": [
    "salary = [4080,12]\n",
    "kw = {'Country':'China','Job':'Engineer','City':'Singapore'}\n",
    "person('zz',23,*salary,**kw)"
   ]
  },
  {
   "cell_type": "code",
   "execution_count": null,
   "metadata": {},
   "outputs": [],
   "source": []
  },
  {
   "cell_type": "code",
   "execution_count": 59,
   "metadata": {},
   "outputs": [],
   "source": [
    "# 可变参数和命名关键词参数混用\n",
    "def person2(name,age,*args,city,job):  # *args 是可变参数，city 和job是命名关键词参数，因为前面可变参数用了*，所以他们省略\n",
    "    n = 1\n",
    "    for x in args:\n",
    "        n *= x\n",
    "    print('Name:',name, 'Age:',age, 'City:',city,'Job:',job)\n",
    "    print('%s\\'s saralry is:'%name, n, 'dollars per year.') # %name 紧跟 %s,它们之间没有逗号，两者必须在同一个逗号区间内"
   ]
  },
  {
   "cell_type": "code",
   "execution_count": 60,
   "metadata": {},
   "outputs": [
    {
     "name": "stdout",
     "output_type": "stream",
     "text": [
      "Name: zz Age: 23 City: singapore Job: engineer\n",
      "zz's saralry is: 65650 dollars per year.\n"
     ]
    }
   ],
   "source": [
    "salary=(5050,13)\n",
    "person2('zz',23,*salary,city='singapore',job = 'engineer')"
   ]
  },
  {
   "cell_type": "code",
   "execution_count": null,
   "metadata": {},
   "outputs": [],
   "source": []
  }
 ],
 "metadata": {
  "kernelspec": {
   "display_name": "Python [conda env:Anaconda3_Py3.6]",
   "language": "python",
   "name": "conda-env-Anaconda3_Py3.6-py"
  },
  "language_info": {
   "codemirror_mode": {
    "name": "ipython",
    "version": 3
   },
   "file_extension": ".py",
   "mimetype": "text/x-python",
   "name": "python",
   "nbconvert_exporter": "python",
   "pygments_lexer": "ipython3",
   "version": "3.6.6"
  }
 },
 "nbformat": 4,
 "nbformat_minor": 2
}
